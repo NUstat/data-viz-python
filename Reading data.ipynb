{
 "cells": [
  {
   "cell_type": "raw",
   "id": "ac6bad09",
   "metadata": {},
   "source": [
    "---\n",
    "title: \"Reading data\"\n",
    "format: \n",
    "  html:\n",
    "    toc-depth: 4\n",
    "    code-fold: false\n",
    "jupyter: python3\n",
    "---"
   ]
  },
  {
   "cell_type": "markdown",
   "id": "e6d9dcf1",
   "metadata": {},
   "source": [
    "## Types of data - structured and unstructured"
   ]
  },
  {
   "cell_type": "markdown",
   "id": "e0bc36b4",
   "metadata": {},
   "source": [
    "Reading data is the first step to extract information from it. Data can exist broadly in two formats:\n",
    "\n",
    "(1) Structured data, and\n",
    "(2) Unstructured data. \n",
    "\n",
    "Structured data is typically stored in a tabular form, where rows in the data correspond to \"observations\" and columns correspond to \"variables\". For example, the following dataset contains 5 observations, where each observation (or row) consists of information about a movie. The variables (or columns) contain different pieces of information about a given movie. As all variables for a given row are related to the same movie, the data below is also called relational data."
   ]
  },
  {
   "cell_type": "code",
   "execution_count": 1,
   "id": "988e2792",
   "metadata": {},
   "outputs": [
    {
     "ename": "ModuleNotFoundError",
     "evalue": "No module named 'pandas'",
     "output_type": "error",
     "traceback": [
      "\u001b[0;31m---------------------------------------------------------------------------\u001b[0m",
      "\u001b[0;31mModuleNotFoundError\u001b[0m                       Traceback (most recent call last)",
      "Cell \u001b[0;32mIn[1], line 2\u001b[0m\n\u001b[1;32m      1\u001b[0m \u001b[38;5;66;03m#| echo: false\u001b[39;00m\n\u001b[0;32m----> 2\u001b[0m \u001b[38;5;28;01mimport\u001b[39;00m\u001b[38;5;250m \u001b[39m\u001b[38;5;21;01mpandas\u001b[39;00m\u001b[38;5;250m \u001b[39m\u001b[38;5;28;01mas\u001b[39;00m\u001b[38;5;250m \u001b[39m\u001b[38;5;21;01mpd\u001b[39;00m\n\u001b[1;32m      3\u001b[0m data \u001b[38;5;241m=\u001b[39m pd\u001b[38;5;241m.\u001b[39mread_csv(\u001b[38;5;124m'\u001b[39m\u001b[38;5;124mmovies_sample_data.csv\u001b[39m\u001b[38;5;124m'\u001b[39m)\n\u001b[1;32m      4\u001b[0m data\u001b[38;5;241m.\u001b[39mhead()\n",
      "\u001b[0;31mModuleNotFoundError\u001b[0m: No module named 'pandas'"
     ]
    }
   ],
   "source": [
    "#| echo: false\n",
    "import pandas as pd\n",
    "data = pd.read_csv('movies_sample_data.csv')\n",
    "data.head()"
   ]
  },
  {
   "cell_type": "markdown",
   "id": "5a1a4e66",
   "metadata": {},
   "source": [
    "Unstructured data is data that is not organized in any pre-defined manner. Examples of unstructured data can be text files, audio/video files, images, Internet of Things (IoT) data, etc. Unstructured data is relatively harder to analyze as most of the analytical methods and tools are oriented towards structured data. However, an unstructured data can be used to obtain structured data, which in turn can be analyzed. For example, an image can be converted to an array of pixels - which will be structured data. Machine learning algorithms can then be used on the array to classify the image as that of a dog or a cat. \n",
    "\n",
    "In this course, we will focus on analyzing structured data."
   ]
  },
  {
   "cell_type": "markdown",
   "id": "1429f98f",
   "metadata": {},
   "source": [
    "## Reading a *csv* file with *Pandas*"
   ]
  },
  {
   "cell_type": "markdown",
   "id": "c271d67d",
   "metadata": {},
   "source": [
    "Structured data can be stored in a variety of formats. The most popular format is *data_file_name.csv*, where the extension *csv* stands for comma separated values. The variable values of each observation are separated by a comma in a *.csv* file. In other words, the **delimiter** is a comma in a *csv* file. However, the comma is not visible when a *.csv* file is opened with Microsoft Excel. "
   ]
  },
  {
   "cell_type": "markdown",
   "id": "275189de",
   "metadata": {},
   "source": [
    "### Using the *read_csv* function"
   ]
  },
  {
   "cell_type": "markdown",
   "id": "392e9aef",
   "metadata": {},
   "source": [
    "We will use functions from the *Pandas* library of *Python* to read data. Let us import *Pandas* to use its functions."
   ]
  },
  {
   "cell_type": "code",
   "execution_count": null,
   "id": "699cba8d",
   "metadata": {},
   "outputs": [],
   "source": [
    "import pandas as pd"
   ]
  },
  {
   "cell_type": "markdown",
   "id": "28c7a579",
   "metadata": {},
   "source": [
    "Note that *pd* is the acronym that we will use to call a *Pandas* function. This acronym can be anything as desired by the user."
   ]
  },
  {
   "cell_type": "markdown",
   "id": "ac751b32",
   "metadata": {},
   "source": [
    "The function to read a *csv* file is [read_csv()](https://pandas.pydata.org/docs/reference/api/pandas.read_csv.html). It reads the dataset into an object of type [Pandas DataFrame](https://pandas.pydata.org/docs/reference/api/pandas.DataFrame.html). Let us read the dataset *movie_ratings.csv* in Python."
   ]
  },
  {
   "cell_type": "code",
   "execution_count": null,
   "id": "32ceebd5",
   "metadata": {},
   "outputs": [],
   "source": [
    "movie_ratings = pd.read_csv('movie_ratings.csv')"
   ]
  },
  {
   "cell_type": "markdown",
   "id": "234983c2",
   "metadata": {},
   "source": [
    "The built-in python function `type` can be used to check the dataype of an object:"
   ]
  },
  {
   "cell_type": "code",
   "execution_count": null,
   "id": "fb7da2b9",
   "metadata": {},
   "outputs": [],
   "source": [
    "type(movie_ratings)"
   ]
  }
 ],
 "metadata": {
  "kernelspec": {
   "display_name": "Python 3.9.6 64-bit",
   "language": "python",
   "name": "python3"
  },
  "language_info": {
   "codemirror_mode": {
    "name": "ipython",
    "version": 3
   },
   "file_extension": ".py",
   "mimetype": "text/x-python",
   "name": "python",
   "nbconvert_exporter": "python",
   "pygments_lexer": "ipython3",
   "version": "3.9.6"
  },
  "vscode": {
   "interpreter": {
    "hash": "31f2aee4e71d21fbe5cf8b01ff0e069b9275f58929596ceb00d14d90e3e16cd6"
   }
  }
 },
 "nbformat": 4,
 "nbformat_minor": 5
}
